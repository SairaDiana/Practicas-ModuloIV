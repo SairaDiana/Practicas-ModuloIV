{
 "cells": [
  {
   "cell_type": "code",
   "execution_count": 1,
   "metadata": {},
   "outputs": [],
   "source": [
    "import pandas as pd\n",
    "import missingno as msno\n",
    "import numpy as np\n",
    "%matplotlib inline"
   ]
  },
  {
   "cell_type": "code",
   "execution_count": 2,
   "metadata": {},
   "outputs": [],
   "source": [
    "file = 'C:/Users/saira/Desktop/Modulo 4/Heart.csv'"
   ]
  },
  {
   "cell_type": "code",
   "execution_count": 3,
   "metadata": {},
   "outputs": [
    {
     "data": {
      "text/html": [
       "<div>\n",
       "<style scoped>\n",
       "    .dataframe tbody tr th:only-of-type {\n",
       "        vertical-align: middle;\n",
       "    }\n",
       "\n",
       "    .dataframe tbody tr th {\n",
       "        vertical-align: top;\n",
       "    }\n",
       "\n",
       "    .dataframe thead th {\n",
       "        text-align: right;\n",
       "    }\n",
       "</style>\n",
       "<table border=\"1\" class=\"dataframe\">\n",
       "  <thead>\n",
       "    <tr style=\"text-align: right;\">\n",
       "      <th></th>\n",
       "      <th>age</th>\n",
       "      <th>sex</th>\n",
       "      <th>cp</th>\n",
       "      <th>trestbps</th>\n",
       "      <th>chol</th>\n",
       "      <th>fbs</th>\n",
       "      <th>restecg</th>\n",
       "      <th>thalach</th>\n",
       "      <th>exang</th>\n",
       "      <th>oldpeak</th>\n",
       "      <th>slope</th>\n",
       "      <th>ca</th>\n",
       "      <th>thal</th>\n",
       "      <th>MEDV</th>\n",
       "    </tr>\n",
       "  </thead>\n",
       "  <tbody>\n",
       "    <tr>\n",
       "      <td>0</td>\n",
       "      <td>63</td>\n",
       "      <td>1</td>\n",
       "      <td>3</td>\n",
       "      <td>145</td>\n",
       "      <td>233</td>\n",
       "      <td>1</td>\n",
       "      <td>0</td>\n",
       "      <td>150</td>\n",
       "      <td>0</td>\n",
       "      <td>2.3</td>\n",
       "      <td>0</td>\n",
       "      <td>0</td>\n",
       "      <td>1</td>\n",
       "      <td>1</td>\n",
       "    </tr>\n",
       "    <tr>\n",
       "      <td>1</td>\n",
       "      <td>37</td>\n",
       "      <td>1</td>\n",
       "      <td>2</td>\n",
       "      <td>130</td>\n",
       "      <td>250</td>\n",
       "      <td>0</td>\n",
       "      <td>1</td>\n",
       "      <td>187</td>\n",
       "      <td>0</td>\n",
       "      <td>3.5</td>\n",
       "      <td>0</td>\n",
       "      <td>0</td>\n",
       "      <td>2</td>\n",
       "      <td>1</td>\n",
       "    </tr>\n",
       "    <tr>\n",
       "      <td>2</td>\n",
       "      <td>41</td>\n",
       "      <td>0</td>\n",
       "      <td>1</td>\n",
       "      <td>130</td>\n",
       "      <td>204</td>\n",
       "      <td>0</td>\n",
       "      <td>0</td>\n",
       "      <td>172</td>\n",
       "      <td>0</td>\n",
       "      <td>1.4</td>\n",
       "      <td>2</td>\n",
       "      <td>0</td>\n",
       "      <td>2</td>\n",
       "      <td>1</td>\n",
       "    </tr>\n",
       "    <tr>\n",
       "      <td>3</td>\n",
       "      <td>56</td>\n",
       "      <td>1</td>\n",
       "      <td>1</td>\n",
       "      <td>120</td>\n",
       "      <td>236</td>\n",
       "      <td>0</td>\n",
       "      <td>1</td>\n",
       "      <td>178</td>\n",
       "      <td>0</td>\n",
       "      <td>0.8</td>\n",
       "      <td>2</td>\n",
       "      <td>0</td>\n",
       "      <td>2</td>\n",
       "      <td>1</td>\n",
       "    </tr>\n",
       "    <tr>\n",
       "      <td>4</td>\n",
       "      <td>57</td>\n",
       "      <td>0</td>\n",
       "      <td>0</td>\n",
       "      <td>120</td>\n",
       "      <td>354</td>\n",
       "      <td>0</td>\n",
       "      <td>1</td>\n",
       "      <td>163</td>\n",
       "      <td>1</td>\n",
       "      <td>0.6</td>\n",
       "      <td>2</td>\n",
       "      <td>0</td>\n",
       "      <td>2</td>\n",
       "      <td>1</td>\n",
       "    </tr>\n",
       "  </tbody>\n",
       "</table>\n",
       "</div>"
      ],
      "text/plain": [
       "   age  sex  cp  trestbps  chol  fbs  restecg  thalach  exang  oldpeak  slope  \\\n",
       "0   63    1   3       145   233    1        0      150      0      2.3      0   \n",
       "1   37    1   2       130   250    0        1      187      0      3.5      0   \n",
       "2   41    0   1       130   204    0        0      172      0      1.4      2   \n",
       "3   56    1   1       120   236    0        1      178      0      0.8      2   \n",
       "4   57    0   0       120   354    0        1      163      1      0.6      2   \n",
       "\n",
       "   ca  thal  MEDV  \n",
       "0   0     1     1  \n",
       "1   0     2     1  \n",
       "2   0     2     1  \n",
       "3   0     2     1  \n",
       "4   0     2     1  "
      ]
     },
     "execution_count": 3,
     "metadata": {},
     "output_type": "execute_result"
    }
   ],
   "source": [
    "df = pd.read_csv(file)\n",
    "df.head()"
   ]
  },
  {
   "cell_type": "code",
   "execution_count": 4,
   "metadata": {},
   "outputs": [],
   "source": [
    "df_copy = df.copy()"
   ]
  },
  {
   "cell_type": "code",
   "execution_count": 5,
   "metadata": {},
   "outputs": [
    {
     "data": {
      "text/plain": [
       "(303, 14)"
      ]
     },
     "execution_count": 5,
     "metadata": {},
     "output_type": "execute_result"
    }
   ],
   "source": [
    "df_copy.shape"
   ]
  },
  {
   "cell_type": "code",
   "execution_count": 6,
   "metadata": {},
   "outputs": [
    {
     "data": {
      "text/plain": [
       "303"
      ]
     },
     "execution_count": 6,
     "metadata": {},
     "output_type": "execute_result"
    }
   ],
   "source": [
    "df_copy.shape[0]"
   ]
  },
  {
   "cell_type": "code",
   "execution_count": 7,
   "metadata": {},
   "outputs": [
    {
     "data": {
      "text/plain": [
       "14"
      ]
     },
     "execution_count": 7,
     "metadata": {},
     "output_type": "execute_result"
    }
   ],
   "source": [
    "df_copy.shape[1]"
   ]
  },
  {
   "cell_type": "code",
   "execution_count": 8,
   "metadata": {},
   "outputs": [
    {
     "data": {
      "text/plain": [
       "Index(['age', 'sex', 'cp', 'trestbps', 'chol', 'fbs', 'restecg', 'thalach',\n",
       "       'exang', 'oldpeak', 'slope', 'ca', 'thal', 'MEDV'],\n",
       "      dtype='object')"
      ]
     },
     "execution_count": 8,
     "metadata": {},
     "output_type": "execute_result"
    }
   ],
   "source": [
    "df_copy.columns"
   ]
  },
  {
   "cell_type": "code",
   "execution_count": 9,
   "metadata": {},
   "outputs": [
    {
     "data": {
      "text/plain": [
       "['age',\n",
       " 'sex',\n",
       " 'cp',\n",
       " 'trestbps',\n",
       " 'chol',\n",
       " 'fbs',\n",
       " 'restecg',\n",
       " 'thalach',\n",
       " 'exang',\n",
       " 'oldpeak',\n",
       " 'slope',\n",
       " 'ca',\n",
       " 'thal',\n",
       " 'MEDV']"
      ]
     },
     "execution_count": 9,
     "metadata": {},
     "output_type": "execute_result"
    }
   ],
   "source": [
    "list(df_copy.columns)"
   ]
  },
  {
   "cell_type": "code",
   "execution_count": 10,
   "metadata": {},
   "outputs": [
    {
     "data": {
      "text/plain": [
       "58    19\n",
       "57    17\n",
       "54    16\n",
       "59    14\n",
       "52    13\n",
       "51    12\n",
       "62    11\n",
       "44    11\n",
       "60    11\n",
       "56    11\n",
       "64    10\n",
       "41    10\n",
       "63     9\n",
       "67     9\n",
       "55     8\n",
       "45     8\n",
       "42     8\n",
       "53     8\n",
       "61     8\n",
       "65     8\n",
       "43     8\n",
       "66     7\n",
       "50     7\n",
       "48     7\n",
       "46     7\n",
       "49     5\n",
       "47     5\n",
       "39     4\n",
       "35     4\n",
       "68     4\n",
       "70     4\n",
       "40     3\n",
       "71     3\n",
       "69     3\n",
       "38     3\n",
       "34     2\n",
       "37     2\n",
       "77     1\n",
       "76     1\n",
       "74     1\n",
       "29     1\n",
       "Name: age, dtype: int64"
      ]
     },
     "execution_count": 10,
     "metadata": {},
     "output_type": "execute_result"
    }
   ],
   "source": [
    "df_copy['age'].value_counts()"
   ]
  },
  {
   "cell_type": "code",
   "execution_count": 11,
   "metadata": {},
   "outputs": [
    {
     "data": {
      "text/plain": [
       "array([63, 37, 41, 56, 57, 44, 52, 54, 48, 49, 64, 58, 50, 66, 43, 69, 59,\n",
       "       42, 61, 40, 71, 51, 65, 53, 46, 45, 39, 47, 62, 34, 35, 29, 55, 60,\n",
       "       67, 68, 74, 76, 70, 38, 77], dtype=int64)"
      ]
     },
     "execution_count": 11,
     "metadata": {},
     "output_type": "execute_result"
    }
   ],
   "source": [
    "df_copy['age'].unique()"
   ]
  },
  {
   "cell_type": "code",
   "execution_count": 12,
   "metadata": {},
   "outputs": [
    {
     "name": "stdout",
     "output_type": "stream",
     "text": [
      "COLUMNA:  age\n",
      "TIPO:  entero\n",
      "NUNIQUE:  41\n",
      "UNIQUE:  [63 37 41 56 57 44 52 54 48 49 64 58 50 66 43 69 59 42 61 40 71 51 65 53\n",
      " 46 45 39 47 62 34 35 29 55 60 67 68 74 76 70 38 77]\n",
      "VALUE COUNTS  58    19\n",
      "57    17\n",
      "54    16\n",
      "59    14\n",
      "52    13\n",
      "51    12\n",
      "62    11\n",
      "44    11\n",
      "60    11\n",
      "56    11\n",
      "64    10\n",
      "41    10\n",
      "63     9\n",
      "67     9\n",
      "55     8\n",
      "45     8\n",
      "42     8\n",
      "53     8\n",
      "61     8\n",
      "65     8\n",
      "43     8\n",
      "66     7\n",
      "50     7\n",
      "48     7\n",
      "46     7\n",
      "49     5\n",
      "47     5\n",
      "39     4\n",
      "35     4\n",
      "68     4\n",
      "70     4\n",
      "40     3\n",
      "71     3\n",
      "69     3\n",
      "38     3\n",
      "34     2\n",
      "37     2\n",
      "77     1\n",
      "76     1\n",
      "74     1\n",
      "29     1\n",
      "Name: age, dtype: int64\n",
      "\n",
      "\n",
      "COLUMNA:  sex\n",
      "TIPO:  entero\n",
      "NUNIQUE:  2\n",
      "UNIQUE:  [1 0]\n",
      "VALUE COUNTS  1    207\n",
      "0     96\n",
      "Name: sex, dtype: int64\n",
      "\n",
      "\n",
      "COLUMNA:  cp\n",
      "TIPO:  entero\n",
      "NUNIQUE:  4\n",
      "UNIQUE:  [3 2 1 0]\n",
      "VALUE COUNTS  0    143\n",
      "2     87\n",
      "1     50\n",
      "3     23\n",
      "Name: cp, dtype: int64\n",
      "\n",
      "\n",
      "COLUMNA:  trestbps\n",
      "TIPO:  entero\n",
      "NUNIQUE:  49\n",
      "UNIQUE:  [145 130 120 140 172 150 110 135 160 105 125 142 155 104 138 128 108 134\n",
      " 122 115 118 100 124  94 112 102 152 101 132 148 178 129 180 136 126 106\n",
      " 156 170 146 117 200 165 174 192 144 123 154 114 164]\n",
      "VALUE COUNTS  120    37\n",
      "130    36\n",
      "140    32\n",
      "110    19\n",
      "150    17\n",
      "138    13\n",
      "128    12\n",
      "125    11\n",
      "160    11\n",
      "112     9\n",
      "132     8\n",
      "118     7\n",
      "135     6\n",
      "108     6\n",
      "124     6\n",
      "145     5\n",
      "134     5\n",
      "152     5\n",
      "122     4\n",
      "170     4\n",
      "100     4\n",
      "142     3\n",
      "115     3\n",
      "136     3\n",
      "105     3\n",
      "180     3\n",
      "126     3\n",
      "102     2\n",
      "94      2\n",
      "144     2\n",
      "178     2\n",
      "146     2\n",
      "148     2\n",
      "129     1\n",
      "165     1\n",
      "101     1\n",
      "174     1\n",
      "104     1\n",
      "172     1\n",
      "106     1\n",
      "156     1\n",
      "164     1\n",
      "192     1\n",
      "114     1\n",
      "155     1\n",
      "117     1\n",
      "154     1\n",
      "123     1\n",
      "200     1\n",
      "Name: trestbps, dtype: int64\n",
      "\n",
      "\n",
      "COLUMNA:  chol\n",
      "TIPO:  entero\n",
      "NUNIQUE:  152\n",
      "UNIQUE:  [233 250 204 236 354 192 294 263 199 168 239 275 266 211 283 219 340 226\n",
      " 247 234 243 302 212 175 417 197 198 177 273 213 304 232 269 360 308 245\n",
      " 208 264 321 325 235 257 216 256 231 141 252 201 222 260 182 303 265 309\n",
      " 186 203 183 220 209 258 227 261 221 205 240 318 298 564 277 214 248 255\n",
      " 207 223 288 160 394 315 246 244 270 195 196 254 126 313 262 215 193 271\n",
      " 268 267 210 295 306 178 242 180 228 149 278 253 342 157 286 229 284 224\n",
      " 206 167 230 335 276 353 225 330 290 172 305 188 282 185 326 274 164 307\n",
      " 249 341 407 217 174 281 289 322 299 300 293 184 409 259 200 327 237 218\n",
      " 319 166 311 169 187 176 241 131]\n",
      "VALUE COUNTS  234    6\n",
      "204    6\n",
      "197    6\n",
      "269    5\n",
      "212    5\n",
      "      ..\n",
      "278    1\n",
      "281    1\n",
      "284    1\n",
      "290    1\n",
      "564    1\n",
      "Name: chol, Length: 152, dtype: int64\n",
      "\n",
      "\n",
      "COLUMNA:  fbs\n",
      "TIPO:  entero\n",
      "NUNIQUE:  2\n",
      "UNIQUE:  [1 0]\n",
      "VALUE COUNTS  0    258\n",
      "1     45\n",
      "Name: fbs, dtype: int64\n",
      "\n",
      "\n",
      "COLUMNA:  restecg\n",
      "TIPO:  entero\n",
      "NUNIQUE:  3\n",
      "UNIQUE:  [0 1 2]\n",
      "VALUE COUNTS  1    152\n",
      "0    147\n",
      "2      4\n",
      "Name: restecg, dtype: int64\n",
      "\n",
      "\n",
      "COLUMNA:  thalach\n",
      "TIPO:  entero\n",
      "NUNIQUE:  91\n",
      "UNIQUE:  [150 187 172 178 163 148 153 173 162 174 160 139 171 144 158 114 151 161\n",
      " 179 137 157 123 152 168 140 188 125 170 165 142 180 143 182 156 115 149\n",
      " 146 175 186 185 159 130 190 132 147 154 202 166 164 184 122 169 138 111\n",
      " 145 194 131 133 155 167 192 121  96 126 105 181 116 108 129 120 112 128\n",
      " 109 113  99 177 141 136  97 127 103 124  88 195 106  95 117  71 118 134\n",
      "  90]\n",
      "VALUE COUNTS  162    11\n",
      "160     9\n",
      "163     9\n",
      "173     8\n",
      "152     8\n",
      "       ..\n",
      "129     1\n",
      "128     1\n",
      "127     1\n",
      "124     1\n",
      "71      1\n",
      "Name: thalach, Length: 91, dtype: int64\n",
      "\n",
      "\n",
      "COLUMNA:  exang\n",
      "TIPO:  entero\n",
      "NUNIQUE:  2\n",
      "UNIQUE:  [0 1]\n",
      "VALUE COUNTS  0    204\n",
      "1     99\n",
      "Name: exang, dtype: int64\n",
      "\n",
      "\n",
      "COLUMNA:  oldpeak\n",
      "TIPO:  flotante\n",
      "NUNIQUE:  7\n",
      "UNIQUE:  [2 3 1 0 4 6 5]\n",
      "VALUE COUNTS  0    166\n",
      "1     78\n",
      "2     34\n",
      "3     17\n",
      "4      6\n",
      "6      1\n",
      "5      1\n",
      "Name: oldpeak, dtype: int64\n",
      "\n",
      "\n",
      "COLUMNA:  slope\n",
      "TIPO:  entero\n",
      "NUNIQUE:  3\n",
      "UNIQUE:  [0 2 1]\n",
      "VALUE COUNTS  2    142\n",
      "1    140\n",
      "0     21\n",
      "Name: slope, dtype: int64\n",
      "\n",
      "\n",
      "COLUMNA:  ca\n",
      "TIPO:  entero\n",
      "NUNIQUE:  5\n",
      "UNIQUE:  [0 2 1 3 4]\n",
      "VALUE COUNTS  0    175\n",
      "1     65\n",
      "2     38\n",
      "3     20\n",
      "4      5\n",
      "Name: ca, dtype: int64\n",
      "\n",
      "\n",
      "COLUMNA:  thal\n",
      "TIPO:  entero\n",
      "NUNIQUE:  4\n",
      "UNIQUE:  [1 2 3 0]\n",
      "VALUE COUNTS  2    166\n",
      "3    117\n",
      "1     18\n",
      "0      2\n",
      "Name: thal, dtype: int64\n",
      "\n",
      "\n",
      "COLUMNA:  MEDV\n",
      "TIPO:  entero\n",
      "NUNIQUE:  2\n",
      "UNIQUE:  [1 0]\n",
      "VALUE COUNTS  1    165\n",
      "0    138\n",
      "Name: MEDV, dtype: int64\n",
      "\n",
      "\n"
     ]
    }
   ],
   "source": [
    "l = []\n",
    "bandera = np.NAN\n",
    "for column in df_copy.columns:\n",
    "    if df_copy[column].dtype == np.int64:\n",
    "        bandera = 'entero'\n",
    "    elif df_copy[column].dtype == np.float64:\n",
    "        bandera = 'flotante'\n",
    "    else:\n",
    "        bandera = 'otro'\n",
    "        \n",
    "    try:\n",
    "        df_copy[column] =df_copy[column].astype('int64')\n",
    "    except:\n",
    "        l.append(column)\n",
    "        \n",
    "    print('COLUMNA: ', column)\n",
    "    print('TIPO: ', bandera)\n",
    "    print('NUNIQUE: ', df_copy[column].nunique())\n",
    "    print('UNIQUE: ', df_copy[column].unique())\n",
    "    print('VALUE COUNTS ', df_copy[column].value_counts())\n",
    "    print('\\n')"
   ]
  },
  {
   "cell_type": "code",
   "execution_count": 13,
   "metadata": {},
   "outputs": [
    {
     "data": {
      "text/plain": [
       "<matplotlib.axes._subplots.AxesSubplot at 0x1e30103cb08>"
      ]
     },
     "execution_count": 13,
     "metadata": {},
     "output_type": "execute_result"
    },
    {
     "data": {
      "image/png": "[encoded data removed]",
      "text/plain": [
       "<Figure size 1728x720 with 3 Axes>"
      ]
     },
     "metadata": {
      "needs_background": "light"
     },
     "output_type": "display_data"
    }
   ],
   "source": [
    "msno.bar(df_copy)"
   ]
  },
  {
   "cell_type": "code",
   "execution_count": 14,
   "metadata": {},
   "outputs": [
    {
     "data": {
      "text/plain": [
       "False"
      ]
     },
     "execution_count": 14,
     "metadata": {},
     "output_type": "execute_result"
    }
   ],
   "source": [
    "df_copy.isnull().any().any()"
   ]
  },
  {
   "cell_type": "code",
   "execution_count": 15,
   "metadata": {},
   "outputs": [],
   "source": [
    "df_copy.replace(to_replace='&', value=np.nan, inplace=True)"
   ]
  },
  {
   "cell_type": "code",
   "execution_count": 16,
   "metadata": {},
   "outputs": [],
   "source": [
    "df_copy.replace(to_replace=' ', value=np.nan, inplace=True)"
   ]
  },
  {
   "cell_type": "code",
   "execution_count": 17,
   "metadata": {},
   "outputs": [
    {
     "data": {
      "text/plain": [
       "False"
      ]
     },
     "execution_count": 17,
     "metadata": {},
     "output_type": "execute_result"
    }
   ],
   "source": [
    "df_copy.isnull().any().any()"
   ]
  },
  {
   "cell_type": "code",
   "execution_count": 18,
   "metadata": {},
   "outputs": [
    {
     "data": {
      "text/plain": [
       "<matplotlib.axes._subplots.AxesSubplot at 0x1e302a80b08>"
      ]
     },
     "execution_count": 18,
     "metadata": {},
     "output_type": "execute_result"
    },
    {
     "data": {
      "image/png": "[encoded data removed]",
      "text/plain": [
       "<Figure size 1728x720 with 3 Axes>"
      ]
     },
     "metadata": {
      "needs_background": "light"
     },
     "output_type": "display_data"
    }
   ],
   "source": [
    "msno.bar(df_copy)"
   ]
  },
  {
   "cell_type": "code",
   "execution_count": 19,
   "metadata": {},
   "outputs": [],
   "source": [
    "file = 'C:/Users/bacho/Desktop/Modulo 4/Heart.csv'"
   ]
  },
  {
   "cell_type": "code",
   "execution_count": 20,
   "metadata": {},
   "outputs": [],
   "source": [
    "df_copy.to_csv(file)"
   ]
  },
  {
   "cell_type": "code",
   "execution_count": 21,
   "metadata": {},
   "outputs": [],
   "source": [
    "df_copy.to_csv(file)"
   ]
  },
  {
   "cell_type": "code",
   "execution_count": 22,
   "metadata": {},
   "outputs": [],
   "source": [
    "df_copy.fillna(value=-1, inplace=True)"
   ]
  },
  {
   "cell_type": "code",
   "execution_count": 23,
   "metadata": {},
   "outputs": [],
   "source": [
    "df_copy.fillna(value=-1, inplace=True)"
   ]
  },
  {
   "cell_type": "code",
   "execution_count": 25,
   "metadata": {},
   "outputs": [],
   "source": [
    "for column in df_copy.columns:\n",
    "    na_column =  df_copy[column].value_counts().get(-1)\n",
    "    if(na_column != None):\n",
    "        print(column, ': ', df_copy.shape[0] - na_column, ' - ', threshold)\n",
    "        if (df_copy.shape[0] - na_column < threshold):\n",
    "            print(column, ': ', 'd e l e t e d')\n",
    "            l.append(column)"
   ]
  },
  {
   "cell_type": "code",
   "execution_count": 26,
   "metadata": {},
   "outputs": [
    {
     "data": {
      "text/plain": [
       "[]"
      ]
     },
     "execution_count": 26,
     "metadata": {},
     "output_type": "execute_result"
    }
   ],
   "source": [
    "l"
   ]
  },
  {
   "cell_type": "code",
   "execution_count": 27,
   "metadata": {},
   "outputs": [
    {
     "data": {
      "text/plain": [
       "<matplotlib.axes._subplots.AxesSubplot at 0x1e3022cb208>"
      ]
     },
     "execution_count": 27,
     "metadata": {},
     "output_type": "execute_result"
    },
    {
     "data": {
      "image/png": "[encoded data removed]",
      "text/plain": [
       "<Figure size 1728x720 with 3 Axes>"
      ]
     },
     "metadata": {
      "needs_background": "light"
     },
     "output_type": "display_data"
    }
   ],
   "source": [
    "df_copy.drop(labels=l, axis=1, inplace=True)\n",
    "df_copy.replace(to_replace=-1, value=np.NaN, inplace=True)\n",
    "msno.bar(df_copy)"
   ]
  },
  {
   "cell_type": "code",
   "execution_count": null,
   "metadata": {},
   "outputs": [],
   "source": []
  }
 ],
 "metadata": {
  "kernelspec": {
   "display_name": "Python 3",
   "language": "python",
   "name": "python3"
  },
  "language_info": {
   "codemirror_mode": {
    "name": "ipython",
    "version": 3
   },
   "file_extension": ".py",
   "mimetype": "text/x-python",
   "name": "python",
   "nbconvert_exporter": "python",
   "pygments_lexer": "ipython3",
   "version": "3.7.4"
  }
 },
 "nbformat": 4,
 "nbformat_minor": 2
}
